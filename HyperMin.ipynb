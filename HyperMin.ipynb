{
 "cells": [
  {
   "cell_type": "markdown",
   "metadata": {},
   "source": [
    "## Hotspot of Mineral using Hyperspectral data"
   ]
  },
  {
   "cell_type": "markdown",
   "metadata": {},
   "source": [
    "### Create powerful user interfaces and convert the jupyter notebook/ python scripts into interactive apps and need not worry about views, templates, and then JS to make it interactive\n"
   ]
  },
  {
   "cell_type": "code",
   "execution_count": 5,
   "metadata": {},
   "outputs": [
    {
     "name": "stdout",
     "output_type": "stream",
     "text": [
      "Requirement already satisfied: fastapi in /opt/anaconda3/lib/python3.8/site-packages (0.111.0)\n",
      "Requirement already satisfied: uvicorn in /opt/anaconda3/lib/python3.8/site-packages (0.30.1)\n",
      "Requirement already satisfied: pydantic in /opt/anaconda3/lib/python3.8/site-packages (2.8.2)\n",
      "Requirement already satisfied: numpy in /opt/anaconda3/lib/python3.8/site-packages (1.18.5)\n",
      "Requirement already satisfied: streamlit in /opt/anaconda3/lib/python3.8/site-packages (1.18.1)\n",
      "Collecting earthengine-api\n",
      "  Downloading earthengine_api-0.1.410-py3-none-any.whl (401 kB)\n",
      "\u001b[K     |████████████████████████████████| 401 kB 833 kB/s eta 0:00:01\n",
      "\u001b[?25hRequirement already satisfied: email_validator>=2.0.0 in /opt/anaconda3/lib/python3.8/site-packages (from fastapi) (2.2.0)\n",
      "Requirement already satisfied: jinja2>=2.11.2 in /opt/anaconda3/lib/python3.8/site-packages (from fastapi) (2.11.2)\n",
      "Requirement already satisfied: starlette<0.38.0,>=0.37.2 in /opt/anaconda3/lib/python3.8/site-packages (from fastapi) (0.37.2)\n",
      "Requirement already satisfied: orjson>=3.2.1 in /opt/anaconda3/lib/python3.8/site-packages (from fastapi) (3.10.6)\n",
      "Requirement already satisfied: python-multipart>=0.0.7 in /opt/anaconda3/lib/python3.8/site-packages (from fastapi) (0.0.9)\n",
      "Requirement already satisfied: httpx>=0.23.0 in /opt/anaconda3/lib/python3.8/site-packages (from fastapi) (0.27.0)\n",
      "Requirement already satisfied: ujson!=4.0.2,!=4.1.0,!=4.2.0,!=4.3.0,!=5.0.0,!=5.1.0,>=4.0.1 in /opt/anaconda3/lib/python3.8/site-packages (from fastapi) (5.10.0)\n",
      "Requirement already satisfied: typing-extensions>=4.8.0 in /opt/anaconda3/lib/python3.8/site-packages (from fastapi) (4.12.2)\n",
      "Requirement already satisfied: fastapi-cli>=0.0.2 in /opt/anaconda3/lib/python3.8/site-packages (from fastapi) (0.0.4)\n",
      "Requirement already satisfied: h11>=0.8 in /opt/anaconda3/lib/python3.8/site-packages (from uvicorn) (0.14.0)\n",
      "Requirement already satisfied: click>=7.0 in /opt/anaconda3/lib/python3.8/site-packages (from uvicorn) (7.1.2)\n",
      "Requirement already satisfied: annotated-types>=0.4.0 in /opt/anaconda3/lib/python3.8/site-packages (from pydantic) (0.7.0)\n",
      "Requirement already satisfied: pydantic-core==2.20.1 in /opt/anaconda3/lib/python3.8/site-packages (from pydantic) (2.20.1)\n",
      "Requirement already satisfied: packaging>=14.1 in /opt/anaconda3/lib/python3.8/site-packages (from streamlit) (20.4)\n",
      "Requirement already satisfied: requests>=2.4 in /opt/anaconda3/lib/python3.8/site-packages (from streamlit) (2.24.0)\n",
      "Requirement already satisfied: pydeck>=0.1.dev5 in /opt/anaconda3/lib/python3.8/site-packages (from streamlit) (0.8.0)\n",
      "Requirement already satisfied: gitpython!=3.1.19 in /opt/anaconda3/lib/python3.8/site-packages (from streamlit) (3.1.31)\n",
      "Requirement already satisfied: importlib-metadata>=1.4 in /opt/anaconda3/lib/python3.8/site-packages (from streamlit) (1.7.0)\n",
      "Requirement already satisfied: pillow>=6.2.0 in /opt/anaconda3/lib/python3.8/site-packages (from streamlit) (7.2.0)\n",
      "Requirement already satisfied: cachetools>=4.0 in /opt/anaconda3/lib/python3.8/site-packages (from streamlit) (5.3.0)\n",
      "Requirement already satisfied: blinker>=1.0.0 in /opt/anaconda3/lib/python3.8/site-packages (from streamlit) (1.5)\n",
      "Requirement already satisfied: pyarrow>=4.0 in /opt/anaconda3/lib/python3.8/site-packages (from streamlit) (11.0.0)\n",
      "Requirement already satisfied: semver in /opt/anaconda3/lib/python3.8/site-packages (from streamlit) (2.13.0)\n",
      "Requirement already satisfied: pympler>=0.9 in /opt/anaconda3/lib/python3.8/site-packages (from streamlit) (1.0.1)\n",
      "Requirement already satisfied: toml in /opt/anaconda3/lib/python3.8/site-packages (from streamlit) (0.10.1)\n",
      "Requirement already satisfied: rich>=10.11.0 in /opt/anaconda3/lib/python3.8/site-packages (from streamlit) (13.3.1)\n",
      "Requirement already satisfied: tornado>=6.0.3 in /opt/anaconda3/lib/python3.8/site-packages (from streamlit) (6.0.4)\n",
      "Requirement already satisfied: python-dateutil in /opt/anaconda3/lib/python3.8/site-packages (from streamlit) (2.8.1)\n",
      "Requirement already satisfied: pandas>=0.25 in /opt/anaconda3/lib/python3.8/site-packages (from streamlit) (1.0.5)\n",
      "Requirement already satisfied: protobuf<4,>=3.12 in /opt/anaconda3/lib/python3.8/site-packages (from streamlit) (3.20.3)\n",
      "Requirement already satisfied: altair>=3.2.0 in /opt/anaconda3/lib/python3.8/site-packages (from streamlit) (4.2.2)\n",
      "Requirement already satisfied: tzlocal>=1.1 in /opt/anaconda3/lib/python3.8/site-packages (from streamlit) (4.2)\n",
      "Requirement already satisfied: validators>=0.2 in /opt/anaconda3/lib/python3.8/site-packages (from streamlit) (0.20.0)\n",
      "Collecting httplib2<1dev,>=0.9.2\n",
      "  Downloading httplib2-0.22.0-py3-none-any.whl (96 kB)\n",
      "\u001b[K     |████████████████████████████████| 96 kB 1.4 MB/s eta 0:00:01\n",
      "\u001b[?25hCollecting google-auth>=1.4.1\n",
      "  Downloading google_auth-2.31.0-py2.py3-none-any.whl (194 kB)\n",
      "\u001b[K     |████████████████████████████████| 194 kB 911 kB/s eta 0:00:01\n",
      "\u001b[?25hCollecting google-auth-httplib2>=0.0.3\n",
      "  Downloading google_auth_httplib2-0.2.0-py2.py3-none-any.whl (9.3 kB)\n",
      "Collecting google-cloud-storage\n",
      "  Downloading google_cloud_storage-2.17.0-py2.py3-none-any.whl (126 kB)\n",
      "\u001b[K     |████████████████████████████████| 126 kB 236 kB/s eta 0:00:01\n",
      "\u001b[?25hCollecting google-api-python-client>=1.12.1\n",
      "  Downloading google_api_python_client-2.136.0-py2.py3-none-any.whl (11.9 MB)\n",
      "\u001b[K     |████████████████████████████████| 11.9 MB 90 kB/s eta 0:00:011    |████▍                           | 1.6 MB 631 kB/s eta 0:00:17     |█████████████████▊              | 6.6 MB 2.2 MB/s eta 0:00:03\n",
      "\u001b[?25hRequirement already satisfied: dnspython>=2.0.0 in /opt/anaconda3/lib/python3.8/site-packages (from email_validator>=2.0.0->fastapi) (2.6.1)\n",
      "Requirement already satisfied: idna>=2.0.0 in /opt/anaconda3/lib/python3.8/site-packages (from email_validator>=2.0.0->fastapi) (2.10)\n",
      "Requirement already satisfied: MarkupSafe>=0.23 in /opt/anaconda3/lib/python3.8/site-packages (from jinja2>=2.11.2->fastapi) (1.1.1)\n",
      "Requirement already satisfied: anyio<5,>=3.4.0 in /opt/anaconda3/lib/python3.8/site-packages (from starlette<0.38.0,>=0.37.2->fastapi) (4.4.0)\n",
      "Requirement already satisfied: sniffio in /opt/anaconda3/lib/python3.8/site-packages (from httpx>=0.23.0->fastapi) (1.3.1)\n",
      "Requirement already satisfied: httpcore==1.* in /opt/anaconda3/lib/python3.8/site-packages (from httpx>=0.23.0->fastapi) (1.0.5)\n",
      "Requirement already satisfied: certifi in /opt/anaconda3/lib/python3.8/site-packages (from httpx>=0.23.0->fastapi) (2020.6.20)\n",
      "Requirement already satisfied: typer>=0.12.3 in /opt/anaconda3/lib/python3.8/site-packages (from fastapi-cli>=0.0.2->fastapi) (0.12.3)\n",
      "Requirement already satisfied: pyparsing>=2.0.2 in /opt/anaconda3/lib/python3.8/site-packages (from packaging>=14.1->streamlit) (2.4.7)\n",
      "Requirement already satisfied: six in /opt/anaconda3/lib/python3.8/site-packages (from packaging>=14.1->streamlit) (1.15.0)\n",
      "Requirement already satisfied: urllib3!=1.25.0,!=1.25.1,<1.26,>=1.21.1 in /opt/anaconda3/lib/python3.8/site-packages (from requests>=2.4->streamlit) (1.25.9)\n",
      "Requirement already satisfied: chardet<4,>=3.0.2 in /opt/anaconda3/lib/python3.8/site-packages (from requests>=2.4->streamlit) (3.0.4)\n",
      "Requirement already satisfied: gitdb<5,>=4.0.1 in /opt/anaconda3/lib/python3.8/site-packages (from gitpython!=3.1.19->streamlit) (4.0.10)\n",
      "Requirement already satisfied: zipp>=0.5 in /opt/anaconda3/lib/python3.8/site-packages (from importlib-metadata>=1.4->streamlit) (3.1.0)\n",
      "Requirement already satisfied: markdown-it-py<3.0.0,>=2.1.0 in /opt/anaconda3/lib/python3.8/site-packages (from rich>=10.11.0->streamlit) (2.2.0)\n",
      "Requirement already satisfied: pygments<3.0.0,>=2.14.0 in /opt/anaconda3/lib/python3.8/site-packages (from rich>=10.11.0->streamlit) (2.14.0)\n",
      "Requirement already satisfied: pytz>=2017.2 in /opt/anaconda3/lib/python3.8/site-packages (from pandas>=0.25->streamlit) (2020.1)\n",
      "Requirement already satisfied: jsonschema>=3.0 in /opt/anaconda3/lib/python3.8/site-packages (from altair>=3.2.0->streamlit) (3.2.0)\n",
      "Requirement already satisfied: toolz in /opt/anaconda3/lib/python3.8/site-packages (from altair>=3.2.0->streamlit) (0.10.0)\n",
      "Requirement already satisfied: entrypoints in /opt/anaconda3/lib/python3.8/site-packages (from altair>=3.2.0->streamlit) (0.3)\n",
      "Requirement already satisfied: backports.zoneinfo; python_version < \"3.9\" in /opt/anaconda3/lib/python3.8/site-packages (from tzlocal>=1.1->streamlit) (0.2.1)\n",
      "Requirement already satisfied: pytz-deprecation-shim in /opt/anaconda3/lib/python3.8/site-packages (from tzlocal>=1.1->streamlit) (0.1.0.post0)\n",
      "Requirement already satisfied: decorator>=3.4.0 in /opt/anaconda3/lib/python3.8/site-packages (from validators>=0.2->streamlit) (4.4.2)\n",
      "Collecting pyasn1-modules>=0.2.1\n",
      "  Downloading pyasn1_modules-0.4.0-py3-none-any.whl (181 kB)\n",
      "\u001b[K     |████████████████████████████████| 181 kB 18 kB/s eta 0:00:011\n",
      "\u001b[?25hCollecting rsa<5,>=3.1.4\n",
      "  Downloading rsa-4.9-py3-none-any.whl (34 kB)\n",
      "Collecting google-cloud-core<3.0dev,>=2.3.0\n",
      "  Downloading google_cloud_core-2.4.1-py2.py3-none-any.whl (29 kB)\n",
      "Collecting google-resumable-media>=2.6.0\n",
      "  Downloading google_resumable_media-2.7.1-py2.py3-none-any.whl (81 kB)\n",
      "\u001b[K     |████████████████████████████████| 81 kB 94 kB/s eta 0:00:011\n",
      "\u001b[?25hCollecting google-crc32c<2.0dev,>=1.0\n",
      "  Downloading google_crc32c-1.5.0-cp38-cp38-macosx_10_9_x86_64.whl (30 kB)\n",
      "Collecting google-api-core<3.0.0dev,>=2.15.0\n",
      "  Downloading google_api_core-2.19.1-py3-none-any.whl (139 kB)\n",
      "\u001b[K     |████████████████████████████████| 139 kB 98 kB/s eta 0:00:01\n",
      "\u001b[?25hCollecting uritemplate<5,>=3.0.1\n",
      "  Downloading uritemplate-4.1.1-py2.py3-none-any.whl (10 kB)\n",
      "Requirement already satisfied: exceptiongroup>=1.0.2; python_version < \"3.11\" in /opt/anaconda3/lib/python3.8/site-packages (from anyio<5,>=3.4.0->starlette<0.38.0,>=0.37.2->fastapi) (1.2.1)\n",
      "Requirement already satisfied: shellingham>=1.3.0 in /opt/anaconda3/lib/python3.8/site-packages (from typer>=0.12.3->fastapi-cli>=0.0.2->fastapi) (1.5.4)\n",
      "Requirement already satisfied: smmap<6,>=3.0.1 in /opt/anaconda3/lib/python3.8/site-packages (from gitdb<5,>=4.0.1->gitpython!=3.1.19->streamlit) (5.0.0)\n",
      "Requirement already satisfied: mdurl~=0.1 in /opt/anaconda3/lib/python3.8/site-packages (from markdown-it-py<3.0.0,>=2.1.0->rich>=10.11.0->streamlit) (0.1.2)\n",
      "Requirement already satisfied: pyrsistent>=0.14.0 in /opt/anaconda3/lib/python3.8/site-packages (from jsonschema>=3.0->altair>=3.2.0->streamlit) (0.16.0)\n",
      "Requirement already satisfied: attrs>=17.4.0 in /opt/anaconda3/lib/python3.8/site-packages (from jsonschema>=3.0->altair>=3.2.0->streamlit) (19.3.0)\n",
      "Requirement already satisfied: setuptools in /opt/anaconda3/lib/python3.8/site-packages (from jsonschema>=3.0->altair>=3.2.0->streamlit) (49.2.0.post20200714)\n",
      "Requirement already satisfied: tzdata; python_version >= \"3.6\" in /opt/anaconda3/lib/python3.8/site-packages (from pytz-deprecation-shim->tzlocal>=1.1->streamlit) (2022.7)\n",
      "Collecting pyasn1<0.7.0,>=0.4.6\n",
      "  Downloading pyasn1-0.6.0-py2.py3-none-any.whl (85 kB)\n",
      "\u001b[K     |████████████████████████████████| 85 kB 335 kB/s eta 0:00:01\n",
      "\u001b[?25hCollecting googleapis-common-protos<2.0.dev0,>=1.56.2\n",
      "  Downloading googleapis_common_protos-1.63.2-py2.py3-none-any.whl (220 kB)\n",
      "\u001b[K     |████████████████████████████████| 220 kB 463 kB/s eta 0:00:01\n",
      "\u001b[?25hCollecting proto-plus<2.0.0dev,>=1.22.3\n",
      "  Downloading proto_plus-1.24.0-py3-none-any.whl (50 kB)\n",
      "\u001b[K     |████████████████████████████████| 50 kB 647 kB/s eta 0:00:01\n",
      "\u001b[?25hInstalling collected packages: httplib2, pyasn1, pyasn1-modules, rsa, google-auth, google-auth-httplib2, googleapis-common-protos, proto-plus, google-api-core, google-cloud-core, google-crc32c, google-resumable-media, google-cloud-storage, uritemplate, google-api-python-client, earthengine-api\n",
      "Successfully installed earthengine-api-0.1.410 google-api-core-2.19.1 google-api-python-client-2.136.0 google-auth-2.31.0 google-auth-httplib2-0.2.0 google-cloud-core-2.4.1 google-cloud-storage-2.17.0 google-crc32c-1.5.0 google-resumable-media-2.7.1 googleapis-common-protos-1.63.2 httplib2-0.22.0 proto-plus-1.24.0 pyasn1-0.6.0 pyasn1-modules-0.4.0 rsa-4.9 uritemplate-4.1.1\n"
     ]
    }
   ],
   "source": [
    "!pip install fastapi uvicorn pydantic numpy streamlit earthengine-api\n"
   ]
  },
  {
   "cell_type": "markdown",
   "metadata": {},
   "source": [
    "### Create the Mineral Calculator Module:\n",
    "\n",
    "First, make sure the functions to load hyperspectral data and detect mineral hotspots are properly defined. Ensure that the Earth Engine API is initialized only once during application startup."
   ]
  },
  {
   "cell_type": "code",
   "execution_count": 1,
   "metadata": {},
   "outputs": [],
   "source": [
    "import numpy as np\n",
    "import ee"
   ]
  },
  {
   "cell_type": "code",
   "execution_count": 2,
   "metadata": {},
   "outputs": [
    {
     "data": {
      "text/html": [
       "<p>To authorize access needed by Earth Engine, open the following\n",
       "        URL in a web browser and follow the instructions:</p>\n",
       "        <p><a href=https://code.earthengine.google.com/client-auth?scopes=https%3A//www.googleapis.com/auth/earthengine%20https%3A//www.googleapis.com/auth/cloud-platform%20https%3A//www.googleapis.com/auth/devstorage.full_control&request_id=JDerteEhAleOP22f4vW_y7yYXB5fCHgcTm8VXineTxY&tc=VL9g7P_RNMoSy7ozDbNPoufxEN5unRKPh_7S3rJ8j8w&cc=-JVpsHR-Uepg_Eb6QN50jnpGNOZVhIGWxh5aAUqbWTE>https://code.earthengine.google.com/client-auth?scopes=https%3A//www.googleapis.com/auth/earthengine%20https%3A//www.googleapis.com/auth/cloud-platform%20https%3A//www.googleapis.com/auth/devstorage.full_control&request_id=JDerteEhAleOP22f4vW_y7yYXB5fCHgcTm8VXineTxY&tc=VL9g7P_RNMoSy7ozDbNPoufxEN5unRKPh_7S3rJ8j8w&cc=-JVpsHR-Uepg_Eb6QN50jnpGNOZVhIGWxh5aAUqbWTE</a></p>\n",
       "        <p>The authorization workflow will generate a code, which you should paste in the box below.</p>\n",
       "        "
      ],
      "text/plain": [
       "<IPython.core.display.HTML object>"
      ]
     },
     "metadata": {},
     "output_type": "display_data"
    }
   ],
   "source": [
    "ee.Authenticate()"
   ]
  },
  {
   "cell_type": "code",
   "execution_count": 2,
   "metadata": {},
   "outputs": [
    {
     "ename": "EEException",
     "evalue": "Please authorize access to your Earth Engine account by running\n\nearthengine authenticate\n\nin your command line, or ee.Authenticate() in Python, and then retry.",
     "output_type": "error",
     "traceback": [
      "\u001b[0;31m---------------------------------------------------------------------------\u001b[0m",
      "\u001b[0;31mEEException\u001b[0m                               Traceback (most recent call last)",
      "\u001b[0;32m<ipython-input-2-7d94ecf62ce8>\u001b[0m in \u001b[0;36m<module>\u001b[0;34m\u001b[0m\n\u001b[1;32m      1\u001b[0m \u001b[0;31m# Initialize the Earth Engine library\u001b[0m\u001b[0;34m\u001b[0m\u001b[0;34m\u001b[0m\u001b[0;34m\u001b[0m\u001b[0m\n\u001b[0;32m----> 2\u001b[0;31m \u001b[0mee\u001b[0m\u001b[0;34m.\u001b[0m\u001b[0mInitialize\u001b[0m\u001b[0;34m(\u001b[0m\u001b[0;34m)\u001b[0m\u001b[0;34m\u001b[0m\u001b[0;34m\u001b[0m\u001b[0m\n\u001b[0m\u001b[1;32m      3\u001b[0m \u001b[0;34m\u001b[0m\u001b[0m\n\u001b[1;32m      4\u001b[0m \u001b[0mprint\u001b[0m\u001b[0;34m(\u001b[0m\u001b[0;34m\"Earth Engine initialized.\"\u001b[0m\u001b[0;34m)\u001b[0m\u001b[0;34m\u001b[0m\u001b[0;34m\u001b[0m\u001b[0m\n",
      "\u001b[0;32m/opt/anaconda3/lib/python3.8/site-packages/ee/_utils.py\u001b[0m in \u001b[0;36mwrapper\u001b[0;34m(*args, **kwargs)\u001b[0m\n\u001b[1;32m     36\u001b[0m           \u001b[0;32mif\u001b[0m \u001b[0mnew_key\u001b[0m \u001b[0;32mnot\u001b[0m \u001b[0;32min\u001b[0m \u001b[0mkwargs\u001b[0m\u001b[0;34m:\u001b[0m\u001b[0;34m\u001b[0m\u001b[0;34m\u001b[0m\u001b[0m\n\u001b[1;32m     37\u001b[0m             \u001b[0mkwargs\u001b[0m\u001b[0;34m[\u001b[0m\u001b[0mnew_key\u001b[0m\u001b[0;34m]\u001b[0m \u001b[0;34m=\u001b[0m \u001b[0mold_key_val\u001b[0m\u001b[0;34m\u001b[0m\u001b[0;34m\u001b[0m\u001b[0m\n\u001b[0;32m---> 38\u001b[0;31m       \u001b[0;32mreturn\u001b[0m \u001b[0mfunc\u001b[0m\u001b[0;34m(\u001b[0m\u001b[0;34m*\u001b[0m\u001b[0margs\u001b[0m\u001b[0;34m,\u001b[0m \u001b[0;34m**\u001b[0m\u001b[0mkwargs\u001b[0m\u001b[0;34m)\u001b[0m\u001b[0;34m\u001b[0m\u001b[0;34m\u001b[0m\u001b[0m\n\u001b[0m\u001b[1;32m     39\u001b[0m \u001b[0;34m\u001b[0m\u001b[0m\n\u001b[1;32m     40\u001b[0m     \u001b[0;32mreturn\u001b[0m \u001b[0mwrapper\u001b[0m\u001b[0;34m\u001b[0m\u001b[0;34m\u001b[0m\u001b[0m\n",
      "\u001b[0;32m/opt/anaconda3/lib/python3.8/site-packages/ee/__init__.py\u001b[0m in \u001b[0;36mInitialize\u001b[0;34m(credentials, url, cloud_api_key, http_transport, project)\u001b[0m\n\u001b[1;32m    151\u001b[0m   \"\"\"\n\u001b[1;32m    152\u001b[0m   \u001b[0;32mif\u001b[0m \u001b[0mcredentials\u001b[0m \u001b[0;34m==\u001b[0m \u001b[0;34m'persistent'\u001b[0m\u001b[0;34m:\u001b[0m\u001b[0;34m\u001b[0m\u001b[0;34m\u001b[0m\u001b[0m\n\u001b[0;32m--> 153\u001b[0;31m     \u001b[0mcredentials\u001b[0m \u001b[0;34m=\u001b[0m \u001b[0mdata\u001b[0m\u001b[0;34m.\u001b[0m\u001b[0mget_persistent_credentials\u001b[0m\u001b[0;34m(\u001b[0m\u001b[0;34m)\u001b[0m\u001b[0;34m\u001b[0m\u001b[0;34m\u001b[0m\u001b[0m\n\u001b[0m\u001b[1;32m    154\u001b[0m   \u001b[0;32mif\u001b[0m \u001b[0;32mnot\u001b[0m \u001b[0mproject\u001b[0m \u001b[0;32mand\u001b[0m \u001b[0mcredentials\u001b[0m \u001b[0;32mand\u001b[0m \u001b[0mhasattr\u001b[0m\u001b[0;34m(\u001b[0m\u001b[0mcredentials\u001b[0m\u001b[0;34m,\u001b[0m \u001b[0;34m'quota_project_id'\u001b[0m\u001b[0;34m)\u001b[0m\u001b[0;34m:\u001b[0m\u001b[0;34m\u001b[0m\u001b[0;34m\u001b[0m\u001b[0m\n\u001b[1;32m    155\u001b[0m     \u001b[0mproject\u001b[0m \u001b[0;34m=\u001b[0m \u001b[0mcredentials\u001b[0m\u001b[0;34m.\u001b[0m\u001b[0mquota_project_id\u001b[0m\u001b[0;34m\u001b[0m\u001b[0;34m\u001b[0m\u001b[0m\n",
      "\u001b[0;32m/opt/anaconda3/lib/python3.8/site-packages/ee/data.py\u001b[0m in \u001b[0;36mget_persistent_credentials\u001b[0;34m()\u001b[0m\n\u001b[1;32m    274\u001b[0m       \u001b[0mcredentials\u001b[0m \u001b[0;34m=\u001b[0m \u001b[0mcredentials\u001b[0m\u001b[0;34m.\u001b[0m\u001b[0mwith_quota_project\u001b[0m\u001b[0;34m(\u001b[0m\u001b[0mproject\u001b[0m\u001b[0;34m)\u001b[0m\u001b[0;34m\u001b[0m\u001b[0;34m\u001b[0m\u001b[0m\n\u001b[1;32m    275\u001b[0m     \u001b[0;32mreturn\u001b[0m \u001b[0mcredentials\u001b[0m\u001b[0;34m\u001b[0m\u001b[0;34m\u001b[0m\u001b[0m\n\u001b[0;32m--> 276\u001b[0;31m   raise ee_exception.EEException(  # pylint: disable=raise-missing-from\n\u001b[0m\u001b[1;32m    277\u001b[0m       \u001b[0;34m'Please authorize access to your Earth Engine account by '\u001b[0m\u001b[0;34m\u001b[0m\u001b[0;34m\u001b[0m\u001b[0m\n\u001b[1;32m    278\u001b[0m       \u001b[0;34m'running\\n\\nearthengine authenticate\\n\\n'\u001b[0m\u001b[0;34m\u001b[0m\u001b[0;34m\u001b[0m\u001b[0m\n",
      "\u001b[0;31mEEException\u001b[0m: Please authorize access to your Earth Engine account by running\n\nearthengine authenticate\n\nin your command line, or ee.Authenticate() in Python, and then retry."
     ]
    }
   ],
   "source": [
    "# Initialize the Earth Engine library\n",
    "ee.Initialize()\n",
    "\n",
    "print(\"Earth Engine initialized.\")\n"
   ]
  },
  {
   "cell_type": "code",
   "execution_count": 7,
   "metadata": {},
   "outputs": [
    {
     "ename": "EEException",
     "evalue": "Please authorize access to your Earth Engine account by running\n\nearthengine authenticate\n\nin your command line, or ee.Authenticate() in Python, and then retry.",
     "output_type": "error",
     "traceback": [
      "\u001b[0;31m---------------------------------------------------------------------------\u001b[0m",
      "\u001b[0;31mEEException\u001b[0m                               Traceback (most recent call last)",
      "\u001b[0;32m<ipython-input-7-adc20795a5eb>\u001b[0m in \u001b[0;36m<module>\u001b[0;34m\u001b[0m\n\u001b[1;32m      5\u001b[0m \u001b[0;34m\u001b[0m\u001b[0m\n\u001b[1;32m      6\u001b[0m \u001b[0;31m# Initialize the Earth Engine library\u001b[0m\u001b[0;34m\u001b[0m\u001b[0;34m\u001b[0m\u001b[0;34m\u001b[0m\u001b[0m\n\u001b[0;32m----> 7\u001b[0;31m \u001b[0mee\u001b[0m\u001b[0;34m.\u001b[0m\u001b[0mInitialize\u001b[0m\u001b[0;34m(\u001b[0m\u001b[0;34m)\u001b[0m\u001b[0;34m\u001b[0m\u001b[0;34m\u001b[0m\u001b[0m\n\u001b[0m\u001b[1;32m      8\u001b[0m \u001b[0;34m\u001b[0m\u001b[0m\n\u001b[1;32m      9\u001b[0m \u001b[0;32mdef\u001b[0m \u001b[0mload_hyperspectral_data\u001b[0m\u001b[0;34m(\u001b[0m\u001b[0mdatacollection\u001b[0m\u001b[0;34m,\u001b[0m \u001b[0mdate\u001b[0m\u001b[0;34m)\u001b[0m\u001b[0;34m:\u001b[0m\u001b[0;34m\u001b[0m\u001b[0;34m\u001b[0m\u001b[0m\n",
      "\u001b[0;32m/opt/anaconda3/lib/python3.8/site-packages/ee/_utils.py\u001b[0m in \u001b[0;36mwrapper\u001b[0;34m(*args, **kwargs)\u001b[0m\n\u001b[1;32m     36\u001b[0m           \u001b[0;32mif\u001b[0m \u001b[0mnew_key\u001b[0m \u001b[0;32mnot\u001b[0m \u001b[0;32min\u001b[0m \u001b[0mkwargs\u001b[0m\u001b[0;34m:\u001b[0m\u001b[0;34m\u001b[0m\u001b[0;34m\u001b[0m\u001b[0m\n\u001b[1;32m     37\u001b[0m             \u001b[0mkwargs\u001b[0m\u001b[0;34m[\u001b[0m\u001b[0mnew_key\u001b[0m\u001b[0;34m]\u001b[0m \u001b[0;34m=\u001b[0m \u001b[0mold_key_val\u001b[0m\u001b[0;34m\u001b[0m\u001b[0;34m\u001b[0m\u001b[0m\n\u001b[0;32m---> 38\u001b[0;31m       \u001b[0;32mreturn\u001b[0m \u001b[0mfunc\u001b[0m\u001b[0;34m(\u001b[0m\u001b[0;34m*\u001b[0m\u001b[0margs\u001b[0m\u001b[0;34m,\u001b[0m \u001b[0;34m**\u001b[0m\u001b[0mkwargs\u001b[0m\u001b[0;34m)\u001b[0m\u001b[0;34m\u001b[0m\u001b[0;34m\u001b[0m\u001b[0m\n\u001b[0m\u001b[1;32m     39\u001b[0m \u001b[0;34m\u001b[0m\u001b[0m\n\u001b[1;32m     40\u001b[0m     \u001b[0;32mreturn\u001b[0m \u001b[0mwrapper\u001b[0m\u001b[0;34m\u001b[0m\u001b[0;34m\u001b[0m\u001b[0m\n",
      "\u001b[0;32m/opt/anaconda3/lib/python3.8/site-packages/ee/__init__.py\u001b[0m in \u001b[0;36mInitialize\u001b[0;34m(credentials, url, cloud_api_key, http_transport, project)\u001b[0m\n\u001b[1;32m    151\u001b[0m   \"\"\"\n\u001b[1;32m    152\u001b[0m   \u001b[0;32mif\u001b[0m \u001b[0mcredentials\u001b[0m \u001b[0;34m==\u001b[0m \u001b[0;34m'persistent'\u001b[0m\u001b[0;34m:\u001b[0m\u001b[0;34m\u001b[0m\u001b[0;34m\u001b[0m\u001b[0m\n\u001b[0;32m--> 153\u001b[0;31m     \u001b[0mcredentials\u001b[0m \u001b[0;34m=\u001b[0m \u001b[0mdata\u001b[0m\u001b[0;34m.\u001b[0m\u001b[0mget_persistent_credentials\u001b[0m\u001b[0;34m(\u001b[0m\u001b[0;34m)\u001b[0m\u001b[0;34m\u001b[0m\u001b[0;34m\u001b[0m\u001b[0m\n\u001b[0m\u001b[1;32m    154\u001b[0m   \u001b[0;32mif\u001b[0m \u001b[0;32mnot\u001b[0m \u001b[0mproject\u001b[0m \u001b[0;32mand\u001b[0m \u001b[0mcredentials\u001b[0m \u001b[0;32mand\u001b[0m \u001b[0mhasattr\u001b[0m\u001b[0;34m(\u001b[0m\u001b[0mcredentials\u001b[0m\u001b[0;34m,\u001b[0m \u001b[0;34m'quota_project_id'\u001b[0m\u001b[0;34m)\u001b[0m\u001b[0;34m:\u001b[0m\u001b[0;34m\u001b[0m\u001b[0;34m\u001b[0m\u001b[0m\n\u001b[1;32m    155\u001b[0m     \u001b[0mproject\u001b[0m \u001b[0;34m=\u001b[0m \u001b[0mcredentials\u001b[0m\u001b[0;34m.\u001b[0m\u001b[0mquota_project_id\u001b[0m\u001b[0;34m\u001b[0m\u001b[0;34m\u001b[0m\u001b[0m\n",
      "\u001b[0;32m/opt/anaconda3/lib/python3.8/site-packages/ee/data.py\u001b[0m in \u001b[0;36mget_persistent_credentials\u001b[0;34m()\u001b[0m\n\u001b[1;32m    274\u001b[0m       \u001b[0mcredentials\u001b[0m \u001b[0;34m=\u001b[0m \u001b[0mcredentials\u001b[0m\u001b[0;34m.\u001b[0m\u001b[0mwith_quota_project\u001b[0m\u001b[0;34m(\u001b[0m\u001b[0mproject\u001b[0m\u001b[0;34m)\u001b[0m\u001b[0;34m\u001b[0m\u001b[0;34m\u001b[0m\u001b[0m\n\u001b[1;32m    275\u001b[0m     \u001b[0;32mreturn\u001b[0m \u001b[0mcredentials\u001b[0m\u001b[0;34m\u001b[0m\u001b[0;34m\u001b[0m\u001b[0m\n\u001b[0;32m--> 276\u001b[0;31m   raise ee_exception.EEException(  # pylint: disable=raise-missing-from\n\u001b[0m\u001b[1;32m    277\u001b[0m       \u001b[0;34m'Please authorize access to your Earth Engine account by '\u001b[0m\u001b[0;34m\u001b[0m\u001b[0;34m\u001b[0m\u001b[0m\n\u001b[1;32m    278\u001b[0m       \u001b[0;34m'running\\n\\nearthengine authenticate\\n\\n'\u001b[0m\u001b[0;34m\u001b[0m\u001b[0;34m\u001b[0m\u001b[0m\n",
      "\u001b[0;31mEEException\u001b[0m: Please authorize access to your Earth Engine account by running\n\nearthengine authenticate\n\nin your command line, or ee.Authenticate() in Python, and then retry."
     ]
    }
   ],
   "source": [
    "# hyperspectral_analysis.py\n",
    "\n",
    "import numpy as np\n",
    "import ee\n",
    "\n",
    "# Initialize the Earth Engine library\n",
    "ee.Initialize()\n",
    "\n",
    "def load_hyperspectral_data(datacollection, date):\n",
    "    \"\"\"\n",
    "    Load hyperspectral data from Google Earth Engine for a specified time frame.\n",
    "\n",
    "    Args:\n",
    "    datacollection (str): The name of the Earth Engine ImageCollection.\n",
    "    date (str): The date for which to extract the hyperspectral data (format: 'YYYY-MM-DD').\n",
    "\n",
    "    Returns:\n",
    "    numpy.ndarray: The hyperspectral data array.\n",
    "    \"\"\"\n",
    "    collection = ee.ImageCollection(datacollection).filterDate(date)\n",
    "    image = collection.first()\n",
    "    url = image.getDownloadURL()\n",
    "    data_collection = np.load(url)\n",
    "    return data_collection\n",
    "\n",
    "def detect_mineral_hotspots(data_collection, mineral_signature):\n",
    "    \"\"\"\n",
    "    Detect mineral hotspots based on the hyperspectral data and mineral signature.\n",
    "\n",
    "    Args:\n",
    "    data_collection (numpy.ndarray): The hyperspectral data array.\n",
    "    mineral_signature (float): The signature value of the mineral to detect.\n",
    "\n",
    "    Returns:\n",
    "    numpy.ndarray: The binary array indicating the presence of mineral hotspots.\n",
    "    \"\"\"\n",
    "    # Example calculation: You can replace this with actual processing logic.\n",
    "    hotspots = (data_collection == mineral_signature).astype(int)\n",
    "    return hotspots\n"
   ]
  },
  {
   "cell_type": "markdown",
   "metadata": {},
   "source": [
    "### Serve the Function from the Module Using FastAPI\n",
    "Next, create a FastAPI application that uses these functions. Define the necessary Pydantic models for input validation and set up the API endpoints."
   ]
  },
  {
   "cell_type": "code",
   "execution_count": null,
   "metadata": {},
   "outputs": [],
   "source": [
    "from fastapi import FastAPI, HTTPException\n",
    "from pydantic import BaseModel\n",
    "from hyperspectral_analysis import load_hyperspectral_data, detect_mineral_hotspots\n",
    "\n",
    "class UserInput(BaseModel):\n",
    "    datacollection: str\n",
    "    date: str\n",
    "    mineral_signature: float\n",
    "\n",
    "app = FastAPI()\n",
    "\n",
    "@app.post(\"/detect-hotspots/\")\n",
    "async def detect_hotspots(user_input: UserInput):\n",
    "    try:\n",
    "        data_collection = load_hyperspectral_data(user_input.datacollection, user_input.date)\n",
    "        hotspots = detect_mineral_hotspots(data_collection, user_input.mineral_signature)\n",
    "        return {\"hotspots\": hotspots.tolist()}\n",
    "    except Exception as e:\n",
    "        raise HTTPException(status_code=500, detail=str(e))\n",
    "\n",
    "if __name__ == \"__main__\":\n",
    "    import uvicorn\n",
    "    uvicorn.run(app, host=\"127.0.0.1\", port=8000)"
   ]
  },
  {
   "cell_type": "markdown",
   "metadata": {},
   "source": [
    "### Create a Streamlit Application\n",
    "Finally, create a Streamlit application to provide a user interface that interacts with the FastAPI backend."
   ]
  },
  {
   "cell_type": "code",
   "execution_count": null,
   "metadata": {},
   "outputs": [],
   "source": [
    "import streamlit as st\n",
    "import requests\n",
    "\n",
    "st.title(\"Mineral Hotspot Detector\")\n",
    "\n",
    "datacollection = st.text_input(\"Enter the ImageCollection name (e.g., 'COPERNICUS/S2'):\")\n",
    "date = st.text_input(\"Enter the date (format: YYYY-MM-DD):\")\n",
    "mineral_signature = st.number_input(\"Enter the mineral signature value:\")\n",
    "\n",
    "if st.button(\"Detect Hotspots\"):\n",
    "    response = requests.post(\"http://127.0.0.1:8000/detect-hotspots/\", json={\n",
    "        \"datacollection\": datacollection,\n",
    "        \"date\": date,\n",
    "        \"mineral_signature\": mineral_signature\n",
    "    })\n",
    "    if response.status_code == 200:\n",
    "        hotspots = response.json()[\"hotspots\"]\n",
    "        st.write(\"Hotspots detected:\", hotspots)\n",
    "    else:\n",
    "        st.write(\"Error in detecting hotspots:\", response.json()[\"detail\"])"
   ]
  },
  {
   "cell_type": "markdown",
   "metadata": {},
   "source": [
    "### Run the Applications\n"
   ]
  },
  {
   "cell_type": "code",
   "execution_count": null,
   "metadata": {},
   "outputs": [],
   "source": [
    "uvicorn main:app --reload\n"
   ]
  },
  {
   "cell_type": "code",
   "execution_count": 1,
   "metadata": {},
   "outputs": [],
   "source": [
    "streamlit run app.py"
   ]
  }
 ],
 "metadata": {
  "kernelspec": {
   "display_name": "base",
   "language": "python",
   "name": "python3"
  },
  "language_info": {
   "codemirror_mode": {
    "name": "ipython",
    "version": 3
   },
   "file_extension": ".py",
   "mimetype": "text/x-python",
   "name": "python",
   "nbconvert_exporter": "python",
   "pygments_lexer": "ipython3",
   "version": "3.8.3"
  }
 },
 "nbformat": 4,
 "nbformat_minor": 2
}
